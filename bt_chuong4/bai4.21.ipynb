{
 "cells": [
  {
   "cell_type": "code",
   "execution_count": 12,
   "metadata": {},
   "outputs": [
    {
     "name": "stdout",
     "output_type": "stream",
     "text": [
      "<class 'pandas.core.frame.DataFrame'>\n",
      "(193, 6)\n",
      "['country', 'beer_servings', 'spirit_servings', 'wine_servings', 'total_litres_of_pure_alcohol', 'continent']\n",
      "5 dòng dữ liệu đầu tiên:\n",
      "        country  beer_servings  spirit_servings  wine_servings  \\\n",
      "0  Afghanistan              0                0              0   \n",
      "1      Albania             89              132             54   \n",
      "2      Algeria             25                0             14   \n",
      "3      Andorra            245              138            312   \n",
      "4       Angola            217               57             45   \n",
      "\n",
      "   total_litres_of_pure_alcohol continent  \n",
      "0                           0.0        AS  \n",
      "1                           4.9        EU  \n",
      "2                           0.7        AF  \n",
      "3                          12.4        EU  \n",
      "4                           5.9        AF  \n",
      "5 dòng dữ liệu cuối cùng:\n",
      "        country  beer_servings  spirit_servings  wine_servings  \\\n",
      "188  Venezuela            333              100              3   \n",
      "189    Vietnam            111                2              1   \n",
      "190      Yemen              6                0              0   \n",
      "191     Zambia             32               19              4   \n",
      "192   Zimbabwe             64               18              4   \n",
      "\n",
      "     total_litres_of_pure_alcohol continent  \n",
      "188                           7.7        SA  \n",
      "189                           2.0        AS  \n",
      "190                           0.1        AS  \n",
      "191                           2.5        AF  \n",
      "192                           4.7        AF  \n"
     ]
    }
   ],
   "source": [
    "# 1\n",
    "import pandas as pd\n",
    "drinks = pd.read_csv('drinks.csv',index_col = 0)\n",
    "# print(drinks)\n",
    "print(type(drinks))\n",
    "print(drinks.shape)\n",
    "print(drinks.columns.tolist())\n",
    "print(\"5 dòng dữ liệu đầu tiên:\\n\",drinks.head())\n",
    "print(\"5 dòng dữ liệu cuối cùng:\\n\",drinks.tail())"
   ]
  },
  {
   "cell_type": "code",
   "execution_count": 20,
   "metadata": {},
   "outputs": [
    {
     "name": "stdout",
     "output_type": "stream",
     "text": [
      "số lượng bia tiêu thụ tiêu thụ trung bình ở mỗi châu lục: continent\n",
      "AF     61.471698\n",
      "AS     37.045455\n",
      "EU    193.777778\n",
      "OC     89.687500\n",
      "SA    175.083333\n",
      "Name: beer_servings, dtype: float64\n"
     ]
    }
   ],
   "source": [
    "print(\"số lượng bia tiêu thụ tiêu thụ trung bình ở mỗi châu lục:\",drinks.groupby('continent')['beer_servings'].mean())"
   ]
  },
  {
   "cell_type": "code",
   "execution_count": 22,
   "metadata": {},
   "outputs": [
    {
     "name": "stdout",
     "output_type": "stream",
     "text": [
      "thông tin tổng quát số lượng rượu vang được tiêu thụ trên mỗi châu lục:            count        mean        std  min   25%    50%     75%    max\n",
      "continent                                                               \n",
      "AF          53.0   16.264151  38.846419  0.0   1.0    2.0   13.00  233.0\n",
      "AS          44.0    9.068182  21.667034  0.0   0.0    1.0    8.00  123.0\n",
      "EU          45.0  142.222222  97.421738  0.0  59.0  128.0  195.00  370.0\n",
      "OC          16.0   35.625000  64.555790  0.0   1.0    8.5   23.25  212.0\n",
      "SA          12.0   62.416667  88.620189  1.0   3.0   12.0   98.50  221.0\n"
     ]
    }
   ],
   "source": [
    "# 3\n",
    "print(\"thông tin tổng quát số lượng rượu vang được tiêu thụ trên mỗi châu lục:\",drinks.groupby('continent')['wine_servings'].describe())"
   ]
  },
  {
   "cell_type": "code",
   "execution_count": 25,
   "metadata": {},
   "outputs": [
    {
     "name": "stdout",
     "output_type": "stream",
     "text": [
      "số lượng bia và rượu tiêu thụ trung bình ở mỗi châu lục:\n",
      "            beer_servings  spirit_servings\n",
      "continent                                \n",
      "AF             61.471698        16.339623\n",
      "AS             37.045455        60.840909\n",
      "EU            193.777778       132.555556\n",
      "OC             89.687500        58.437500\n",
      "SA            175.083333       114.750000\n"
     ]
    },
    {
     "name": "stderr",
     "output_type": "stream",
     "text": [
      "C:\\Users\\Admin\\AppData\\Roaming\\Python\\Python36\\site-packages\\ipykernel_launcher.py:2: FutureWarning: Indexing with multiple keys (implicitly converted to a tuple of keys) will be deprecated, use a list instead.\n",
      "  \n"
     ]
    }
   ],
   "source": [
    "# 4\n",
    "print(\"số lượng bia và rượu tiêu thụ trung bình ở mỗi châu lục:\\n\",drinks.groupby('continent')['beer_servings','spirit_servings'].mean())"
   ]
  },
  {
   "cell_type": "code",
   "execution_count": 27,
   "metadata": {},
   "outputs": [
    {
     "name": "stdout",
     "output_type": "stream",
     "text": [
      "giá trị trung vị cho bia và rượu ở mỗi châu lục            beer_servings  spirit_servings\n",
      "continent                                \n",
      "AF                  32.0              3.0\n",
      "AS                  17.5             16.0\n",
      "EU                 219.0            122.0\n",
      "OC                  52.5             37.0\n",
      "SA                 162.5            108.5\n"
     ]
    },
    {
     "name": "stderr",
     "output_type": "stream",
     "text": [
      "C:\\Users\\Admin\\AppData\\Roaming\\Python\\Python36\\site-packages\\ipykernel_launcher.py:2: FutureWarning: Indexing with multiple keys (implicitly converted to a tuple of keys) will be deprecated, use a list instead.\n",
      "  \n"
     ]
    }
   ],
   "source": [
    "# 5\n",
    "print(\"giá trị trung vị cho bia và rượu ở mỗi châu lục\",drinks.groupby('continent')['beer_servings','spirit_servings'].median())"
   ]
  },
  {
   "cell_type": "code",
   "execution_count": 29,
   "metadata": {},
   "outputs": [
    {
     "name": "stdout",
     "output_type": "stream",
     "text": [
      "                 mean  max  min\n",
      "continent                      \n",
      "AF          16.339623  152    0\n",
      "AS          60.840909  326    0\n",
      "EU         132.555556  373    0\n",
      "OC          58.437500  254    0\n",
      "SA         114.750000  302   25\n"
     ]
    }
   ],
   "source": [
    "# 6\n",
    "print(drinks.groupby('continent')['spirit_servings'].agg(['mean', 'max', 'min']))"
   ]
  },
  {
   "cell_type": "code",
   "execution_count": 45,
   "metadata": {},
   "outputs": [
    {
     "name": "stdout",
     "output_type": "stream",
     "text": [
      "5 quốc gia có lượng bia tiêu thụ ít nhất:\n",
      " 0      Afghanistan\n",
      "40    Cook Islands\n",
      "79            Iran\n",
      "90          Kuwait\n",
      "97           Libya\n",
      "Name: country, dtype: object\n",
      "5 quốc gia có lượng bia tiêu thụ nhiều nhất:\n",
      " 117           Namibia\n",
      "45     Czech Republic\n",
      "62              Gabon\n",
      "65            Germany\n",
      "98          Lithuania\n",
      "Name: country, dtype: object\n"
     ]
    }
   ],
   "source": [
    "# 7\n",
    "print(\"5 quốc gia có lượng bia tiêu thụ ít nhất:\\n\",drinks.sort_values('beer_servings').head(5)['country'])\n",
    "print(\"5 quốc gia có lượng bia tiêu thụ nhiều nhất:\\n\",drinks.sort_values('beer_servings', ascending=False).head(5)['country'])\n"
   ]
  }
 ],
 "metadata": {
  "kernelspec": {
   "display_name": "Python 3.6.8rc1 64-bit",
   "language": "python",
   "name": "python3"
  },
  "language_info": {
   "codemirror_mode": {
    "name": "ipython",
    "version": 3
   },
   "file_extension": ".py",
   "mimetype": "text/x-python",
   "name": "python",
   "nbconvert_exporter": "python",
   "pygments_lexer": "ipython3",
   "version": "3.6.8rc1"
  },
  "orig_nbformat": 4,
  "vscode": {
   "interpreter": {
    "hash": "78d7b6fb6b77b2bee0554797a3d30a2dc1f4881c74cfcbb78b805aff5a203095"
   }
  }
 },
 "nbformat": 4,
 "nbformat_minor": 2
}
