{
 "cells": [
  {
   "cell_type": "code",
   "execution_count": 1,
   "metadata": {},
   "outputs": [
    {
     "data": {
      "text/plain": [
       "0     d\n",
       "1     f\n",
       "2     b\n",
       "3     h\n",
       "4     f\n",
       "5     a\n",
       "6     a\n",
       "7     b\n",
       "8     b\n",
       "9     c\n",
       "10    h\n",
       "11    f\n",
       "12    g\n",
       "13    d\n",
       "14    f\n",
       "15    g\n",
       "16    d\n",
       "17    a\n",
       "18    e\n",
       "19    b\n",
       "20    b\n",
       "21    a\n",
       "22    f\n",
       "23    h\n",
       "24    c\n",
       "25    b\n",
       "26    d\n",
       "27    c\n",
       "28    a\n",
       "29    h\n",
       "dtype: object"
      ]
     },
     "execution_count": 1,
     "metadata": {},
     "output_type": "execute_result"
    }
   ],
   "source": [
    "# 1\n",
    "import pandas as pd\n",
    "import numpy as np\n",
    "ser = pd.Series(np.take(list(\"abcdefgh\"), np.random.randint(8, size=30)))\n",
    "ser"
   ]
  },
  {
   "cell_type": "code",
   "execution_count": 2,
   "metadata": {},
   "outputs": [
    {
     "name": "stdout",
     "output_type": "stream",
     "text": [
      "b    6\n",
      "f    5\n",
      "a    5\n",
      "h    4\n",
      "d    4\n",
      "c    3\n",
      "g    2\n",
      "e    1\n",
      "dtype: int64\n"
     ]
    }
   ],
   "source": [
    "# 2\n",
    "counts = ser.value_counts()\n",
    "print(counts)"
   ]
  }
 ],
 "metadata": {
  "kernelspec": {
   "display_name": "Python 3.6.8rc1 64-bit",
   "language": "python",
   "name": "python3"
  },
  "language_info": {
   "codemirror_mode": {
    "name": "ipython",
    "version": 3
   },
   "file_extension": ".py",
   "mimetype": "text/x-python",
   "name": "python",
   "nbconvert_exporter": "python",
   "pygments_lexer": "ipython3",
   "version": "3.6.8rc1"
  },
  "orig_nbformat": 4,
  "vscode": {
   "interpreter": {
    "hash": "78d7b6fb6b77b2bee0554797a3d30a2dc1f4881c74cfcbb78b805aff5a203095"
   }
  }
 },
 "nbformat": 4,
 "nbformat_minor": 2
}
