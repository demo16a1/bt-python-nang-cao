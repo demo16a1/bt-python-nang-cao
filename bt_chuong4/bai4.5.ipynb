{
 "cells": [
  {
   "cell_type": "code",
   "execution_count": 1,
   "metadata": {},
   "outputs": [],
   "source": [
    "import pandas as pd\n",
    "import numpy as np\n",
    "ser = pd.Series(np.random.normal(10,5,25))\n",
    "print(ser)\n"
   ]
  },
  {
   "cell_type": "code",
   "execution_count": 6,
   "metadata": {},
   "outputs": [
    {
     "name": "stdout",
     "output_type": "stream",
     "text": [
      "1.7939258770795856\n"
     ]
    }
   ],
   "source": [
    "# 1\n",
    "print(ser.min())"
   ]
  },
  {
   "cell_type": "code",
   "execution_count": 8,
   "metadata": {},
   "outputs": [
    {
     "data": {
      "text/plain": [
       "7.200458582248109"
      ]
     },
     "execution_count": 8,
     "metadata": {},
     "output_type": "execute_result"
    }
   ],
   "source": [
    "# 2\n",
    "q25 = ser.quantile(q = 0.25)\n",
    "q25"
   ]
  },
  {
   "cell_type": "code",
   "execution_count": 10,
   "metadata": {},
   "outputs": [
    {
     "data": {
      "text/plain": [
       "11.37314530652013"
      ]
     },
     "execution_count": 10,
     "metadata": {},
     "output_type": "execute_result"
    }
   ],
   "source": [
    "# 3\n",
    "median_value = ser.median()\n",
    "median_value"
   ]
  },
  {
   "cell_type": "code",
   "execution_count": 13,
   "metadata": {},
   "outputs": [
    {
     "data": {
      "text/plain": [
       "13.821939378494992"
      ]
     },
     "execution_count": 13,
     "metadata": {},
     "output_type": "execute_result"
    }
   ],
   "source": [
    "# 4\n",
    "q75 = ser.quantile(q = 0.75)\n",
    "q75"
   ]
  },
  {
   "cell_type": "code",
   "execution_count": 15,
   "metadata": {},
   "outputs": [
    {
     "name": "stdout",
     "output_type": "stream",
     "text": [
      "18.239354818180544\n",
      "0      7.200459\n",
      "1      7.852825\n",
      "2     12.575217\n",
      "3     13.148001\n",
      "4      7.469790\n",
      "5     14.917596\n",
      "6     12.795949\n",
      "7     16.875723\n",
      "8      7.154053\n",
      "9     11.373145\n",
      "10     8.298729\n",
      "11    17.077383\n",
      "12    15.149143\n",
      "13    15.929821\n",
      "14     6.263509\n",
      "15     2.791986\n",
      "16     1.793926\n",
      "17     7.437623\n",
      "18     6.975835\n",
      "19     9.781141\n",
      "20    13.821939\n",
      "21    18.239355\n",
      "22     5.337517\n",
      "23    12.228640\n",
      "24    13.248491\n",
      "dtype: float64\n"
     ]
    }
   ],
   "source": [
    "# 5\n",
    "print(ser.max())"
   ]
  }
 ],
 "metadata": {
  "kernelspec": {
   "display_name": "Python 3.6.8rc1 64-bit",
   "language": "python",
   "name": "python3"
  },
  "language_info": {
   "codemirror_mode": {
    "name": "ipython",
    "version": 3
   },
   "file_extension": ".py",
   "mimetype": "text/x-python",
   "name": "python",
   "nbconvert_exporter": "python",
   "pygments_lexer": "ipython3",
   "version": "3.6.8rc1"
  },
  "orig_nbformat": 4,
  "vscode": {
   "interpreter": {
    "hash": "78d7b6fb6b77b2bee0554797a3d30a2dc1f4881c74cfcbb78b805aff5a203095"
   }
  }
 },
 "nbformat": 4,
 "nbformat_minor": 2
}
