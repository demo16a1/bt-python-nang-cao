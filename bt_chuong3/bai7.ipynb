{
 "cells": [
  {
   "cell_type": "code",
   "execution_count": 2,
   "metadata": {},
   "outputs": [
    {
     "name": "stdout",
     "output_type": "stream",
     "text": [
      "<class 'numpy.ndarray'>\n",
      "[ 70 195]\n",
      "[[180 215 210 ... 205 190 195]]\n",
      "75\n",
      "chiều cao trung bình: 36.8448275862069\n",
      "cân nặng trung bình: 100.67438423645321\n",
      "tương quan thuận\n"
     ]
    }
   ],
   "source": [
    "import numpy as np\n",
    "#1\n",
    "with open(r'd:\\python nâng cao\\chuong_3\\baitap_c3\\baseball_2D.txt','r',encoding='utf-8-sig') as f:\n",
    "    a= f.readlines()\n",
    "    a = a[0]\n",
    "    a = a.replace('[',' ')\n",
    "    a = a.replace(']',' ')\n",
    "    a= list(map(lambda x:int(x),a.split(',')))\n",
    "np_baseball =  np.array(a).reshape((1015,2))\n",
    "print(type(np_baseball))\n",
    "#2\n",
    "print(np_baseball[49,:])\n",
    "#3\n",
    "np_weight = np.array([np_baseball[:,1]])\n",
    "print(np_weight)\n",
    "#4\n",
    "print(np_baseball[123][0])\n",
    "#5\n",
    "print('chiều cao trung bình:',np.sum(np_baseball[:,0])/np_baseball.size)\n",
    "print('cân nặng trung bình:',np.sum(np_baseball[:,1])/np_baseball.size)\n",
    "#6\n",
    "# 6. Bạn nhận xét gì về mối tương quan giữa chiều cao và cân nặng của các cầu thủ: có/không có tương quan, tương quan thuận/nghịch.\n",
    "correlation = np.corrcoef(np_baseball[:,0],np_baseball[:,1])[0, 1]\n",
    "if correlation > 0:\n",
    "    correlation_type = \"tương quan thuận\"\n",
    "elif correlation < 0:\n",
    "    correlation_type = \"tương quan nghịch\"\n",
    "else:\n",
    "    correlation_type = \"không có tương quan\"\n",
    "print(correlation_type)"
   ]
  }
 ],
 "metadata": {
  "kernelspec": {
   "display_name": "Python 3",
   "language": "python",
   "name": "python3"
  },
  "language_info": {
   "codemirror_mode": {
    "name": "ipython",
    "version": 3
   },
   "file_extension": ".py",
   "mimetype": "text/x-python",
   "name": "python",
   "nbconvert_exporter": "python",
   "pygments_lexer": "ipython3",
   "version": "3.6.8"
  }
 },
 "nbformat": 4,
 "nbformat_minor": 2
}
