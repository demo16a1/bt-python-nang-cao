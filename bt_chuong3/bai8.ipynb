{
 "cells": [
  {
   "cell_type": "code",
   "execution_count": 2,
   "metadata": {},
   "outputs": [
    {
     "name": "stdout",
     "output_type": "stream",
     "text": [
      "<U2\n",
      "<class 'numpy.ndarray'>\n",
      "float64\n",
      "<class 'numpy.ndarray'>\n",
      "chiều cao trung bình gk: 188.23333333333332\n",
      "chiều cao trung bình vị trí khác 180.98888467853985\n",
      "[('GK', 191.) ('M', 184.) ('A', 185.) ... ('D', 183.) ('D', 179.)\n",
      " ('M', 179.)]\n",
      "[('M', 158.) ('A', 160.) ('M', 160.) ... ('A', 203.) ('GK', 203.)\n",
      " ('GK', 208.)]\n",
      "vị trí có chiều cao cao nhất ('GK', 208.)\n",
      "vị trí có chiều cao thấp nhất ('M', 158.)\n"
     ]
    }
   ],
   "source": [
    "import numpy as np\n",
    "with open(r'd:\\python nâng cao\\chuong_3\\baitap_c3\\heights.txt','r',encoding='utf-8-sig') as f:\n",
    "    read = f.readlines()\n",
    "    heights = list(map(lambda x:float(x),read[0].split(',')))\n",
    "with open(r'd:\\python nâng cao\\chuong_3\\baitap_c3\\positions.txt','r',encoding='utf-8-sig') as f:\n",
    "    read = f.readlines()\n",
    "    positions = read[0].split(',')\n",
    "#1\n",
    "#a\n",
    "np_positions = np.array(positions)\n",
    "print(np_positions.dtype)\n",
    "print(type(np_positions))\n",
    "#b\n",
    "np_heights = np.array(heights)\n",
    "print(np_heights.dtype)\n",
    "print(type(np_heights))\n",
    "#2\n",
    "mean_gk=np_heights[np_positions == 'GK']\n",
    "print('chiều cao trung bình gk:',np.mean(mean_gk))\n",
    "#3\n",
    "other_heights = np_heights[np_positions != 'GK']\n",
    "print('chiều cao trung bình vị trí khác',np.mean(other_heights))\n",
    "#4\n",
    "players = np.zeros(len(np_positions), dtype={'names':('position', 'height'), 'formats':('U5', 'f8')})\n",
    "players['position'] = np_positions\n",
    "players['height'] = np_heights\n",
    "print(players)\n",
    "#5\n",
    "sorted_players =np.sort(players,order='height')\n",
    "print(sorted_players)\n",
    "print('vị trí có chiều cao cao nhất',sorted_players[-1])\n",
    "print('vị trí có chiều cao thấp nhất',sorted_players[0])"
   ]
  }
 ],
 "metadata": {
  "kernelspec": {
   "display_name": "Python 3",
   "language": "python",
   "name": "python3"
  },
  "language_info": {
   "codemirror_mode": {
    "name": "ipython",
    "version": 3
   },
   "file_extension": ".py",
   "mimetype": "text/x-python",
   "name": "python",
   "nbconvert_exporter": "python",
   "pygments_lexer": "ipython3",
   "version": "3.6.8"
  }
 },
 "nbformat": 4,
 "nbformat_minor": 2
}
